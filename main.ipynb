{
 "cells": [
  {
   "cell_type": "code",
   "execution_count": null,
   "metadata": {},
   "outputs": [],
   "source": [
    "import yfinance as yf\n",
    "import matplotlib.pyplot as plt\n",
    "\n",
    "# 例: 銘柄コード \"MSFT\" (Microsoft) の株価を表示\n",
    "ticker_symbol = \"MSFT\"\n",
    "start_date = \"2022-01-01\"\n",
    "end_date = \"2023-01-01\"\n",
    "\n",
    "# yfinance を使ってデータを取得\n",
    "df = yf.download(ticker_symbol, start=start_date, end=end_date)\n",
    "\n",
    "# グラフ表示\n",
    "plt.figure(figsize=(10, 5))\n",
    "plt.plot(df.index, df[\"Close\"], label=\"Close Price\")\n",
    "plt.title(f\"{ticker_symbol} Stock Price\")\n",
    "plt.xlabel(\"Date\")\n",
    "plt.ylabel(\"Price\")\n",
    "plt.legend()\n",
    "plt.show()"
   ]
  }
 ],
 "metadata": {
  "kernelspec": {
   "display_name": "Python 3",
   "language": "python",
   "name": "python3"
  },
  "language_info": {
   "codemirror_mode": {
    "name": "ipython",
    "version": 3
   },
   "file_extension": ".py",
   "mimetype": "text/x-python",
   "name": "python",
   "nbconvert_exporter": "python",
   "pygments_lexer": "ipython3",
   "version": "3.10.12"
  }
 },
 "nbformat": 4,
 "nbformat_minor": 2
}
